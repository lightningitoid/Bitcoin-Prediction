{
  "cells": [
    {
      "cell_type": "markdown",
      "metadata": {
        "id": "H9wADwK78DCz"
      },
      "source": [
        "# UAS Project Streamlit:\n",
        "- **Nama:** Christopher Ralin Anggoman\n",
        "- **Dataset:** [Dataset Harga Bitcoin] https://www.kaggle.com/datasets/prasoonkottarathil/btcinusd\n",
        "- **URL Website:** [Di isi jika web streamlit di upload]"
      ]
    },
    {
      "cell_type": "markdown",
      "metadata": {
        "id": "eE0raob58DC0"
      },
      "source": [
        "## Menentukan Pertanyaan Bisnis"
      ]
    },
    {
      "cell_type": "markdown",
      "metadata": {
        "id": "GmQeQ5YF8DC0"
      },
      "source": [
        "- Dapatkah model prediksi harga Bitcoin membantu para investor dalam pengambilan keputusan investasi jangka pendek atau jangka panjang?\n",
        "- Sejauh mana tingkat keakuratan model dalam memprediksi perubahan harga Bitcoin dapat membantu dalam merancang strategi manajemen risiko?"
      ]
    },
    {
      "cell_type": "markdown",
      "metadata": {
        "id": "H-z4QGlO8DC1"
      },
      "source": [
        "## Import Semua Packages/Library yang Digunakan"
      ]
    },
    {
      "cell_type": "code",
      "execution_count": null,
      "metadata": {
        "id": "FVYwaObI8DC1"
      },
      "outputs": [],
      "source": [
        "import numpy as np\n",
        "import pandas as pd\n",
        "import matplotlib.pyplot as plt\n",
        "import seaborn as sns\n",
        "import joblib\n",
        "from sklearn.model_selection import train_test_split\n",
        "from sklearn.preprocessing import StandardScaler\n",
        "from sklearn.linear_model import LogisticRegression\n",
        "from sklearn.svm import SVC\n",
        "from xgboost import XGBClassifier\n",
        "from sklearn import metrics\n",
        "from sklearn.metrics import confusion_matrix"
      ]
    },
    {
      "cell_type": "markdown",
      "metadata": {
        "id": "h_Sh51Xy8DC1"
      },
      "source": [
        "## Data Wrangling"
      ]
    },
    {
      "cell_type": "markdown",
      "metadata": {
        "id": "sXU2GBYu8DC1"
      },
      "source": [
        "### Gathering Data"
      ]
    },
    {
      "cell_type": "code",
      "execution_count": null,
      "metadata": {
        "id": "zjCBk1BI8DC1",
        "outputId": "886b4415-d0de-4e1f-93f8-9b9d98b1bcb0"
      },
      "outputs": [
        {
          "data": {
            "text/html": [
              "<div>\n",
              "<style scoped>\n",
              "    .dataframe tbody tr th:only-of-type {\n",
              "        vertical-align: middle;\n",
              "    }\n",
              "\n",
              "    .dataframe tbody tr th {\n",
              "        vertical-align: top;\n",
              "    }\n",
              "\n",
              "    .dataframe thead th {\n",
              "        text-align: right;\n",
              "    }\n",
              "</style>\n",
              "<table border=\"1\" class=\"dataframe\">\n",
              "  <thead>\n",
              "    <tr style=\"text-align: right;\">\n",
              "      <th></th>\n",
              "      <th>unix</th>\n",
              "      <th>open</th>\n",
              "      <th>high</th>\n",
              "      <th>low</th>\n",
              "      <th>close</th>\n",
              "      <th>Volume BTC</th>\n",
              "      <th>Volume USD</th>\n",
              "    </tr>\n",
              "  </thead>\n",
              "  <tbody>\n",
              "    <tr>\n",
              "      <th>count</th>\n",
              "      <td>2.651000e+03</td>\n",
              "      <td>2651.000000</td>\n",
              "      <td>2651.000000</td>\n",
              "      <td>2651.000000</td>\n",
              "      <td>2651.000000</td>\n",
              "      <td>2.651000e+03</td>\n",
              "      <td>2.651000e+03</td>\n",
              "    </tr>\n",
              "    <tr>\n",
              "      <th>mean</th>\n",
              "      <td>1.531613e+09</td>\n",
              "      <td>11693.189332</td>\n",
              "      <td>12038.562912</td>\n",
              "      <td>11296.539461</td>\n",
              "      <td>11709.326213</td>\n",
              "      <td>1.330041e+07</td>\n",
              "      <td>6.099369e+07</td>\n",
              "    </tr>\n",
              "    <tr>\n",
              "      <th>std</th>\n",
              "      <td>6.613247e+07</td>\n",
              "      <td>16272.554746</td>\n",
              "      <td>16739.237000</td>\n",
              "      <td>15718.297511</td>\n",
              "      <td>16282.908704</td>\n",
              "      <td>4.715366e+07</td>\n",
              "      <td>1.072838e+08</td>\n",
              "    </tr>\n",
              "    <tr>\n",
              "      <th>min</th>\n",
              "      <td>1.417133e+09</td>\n",
              "      <td>162.000000</td>\n",
              "      <td>212.840000</td>\n",
              "      <td>152.400000</td>\n",
              "      <td>162.000000</td>\n",
              "      <td>0.000000e+00</td>\n",
              "      <td>0.000000e+00</td>\n",
              "    </tr>\n",
              "    <tr>\n",
              "      <th>25%</th>\n",
              "      <td>1.474373e+09</td>\n",
              "      <td>654.680000</td>\n",
              "      <td>664.460000</td>\n",
              "      <td>640.050000</td>\n",
              "      <td>654.370000</td>\n",
              "      <td>5.357883e+03</td>\n",
              "      <td>9.516170e+03</td>\n",
              "    </tr>\n",
              "    <tr>\n",
              "      <th>50%</th>\n",
              "      <td>1.531613e+09</td>\n",
              "      <td>6408.950000</td>\n",
              "      <td>6540.000000</td>\n",
              "      <td>6312.000000</td>\n",
              "      <td>6407.770000</td>\n",
              "      <td>1.503310e+04</td>\n",
              "      <td>2.288982e+07</td>\n",
              "    </tr>\n",
              "    <tr>\n",
              "      <th>75%</th>\n",
              "      <td>1.588853e+09</td>\n",
              "      <td>10708.620000</td>\n",
              "      <td>10956.240000</td>\n",
              "      <td>10303.755000</td>\n",
              "      <td>10726.425000</td>\n",
              "      <td>3.435336e+06</td>\n",
              "      <td>8.018383e+07</td>\n",
              "    </tr>\n",
              "    <tr>\n",
              "      <th>max</th>\n",
              "      <td>1.646093e+09</td>\n",
              "      <td>67547.490000</td>\n",
              "      <td>69000.000000</td>\n",
              "      <td>66250.000000</td>\n",
              "      <td>67559.000000</td>\n",
              "      <td>7.723295e+08</td>\n",
              "      <td>1.446125e+09</td>\n",
              "    </tr>\n",
              "  </tbody>\n",
              "</table>\n",
              "</div>"
            ],
            "text/plain": [
              "               unix          open          high           low         close  \\\n",
              "count  2.651000e+03   2651.000000   2651.000000   2651.000000   2651.000000   \n",
              "mean   1.531613e+09  11693.189332  12038.562912  11296.539461  11709.326213   \n",
              "std    6.613247e+07  16272.554746  16739.237000  15718.297511  16282.908704   \n",
              "min    1.417133e+09    162.000000    212.840000    152.400000    162.000000   \n",
              "25%    1.474373e+09    654.680000    664.460000    640.050000    654.370000   \n",
              "50%    1.531613e+09   6408.950000   6540.000000   6312.000000   6407.770000   \n",
              "75%    1.588853e+09  10708.620000  10956.240000  10303.755000  10726.425000   \n",
              "max    1.646093e+09  67547.490000  69000.000000  66250.000000  67559.000000   \n",
              "\n",
              "         Volume BTC    Volume USD  \n",
              "count  2.651000e+03  2.651000e+03  \n",
              "mean   1.330041e+07  6.099369e+07  \n",
              "std    4.715366e+07  1.072838e+08  \n",
              "min    0.000000e+00  0.000000e+00  \n",
              "25%    5.357883e+03  9.516170e+03  \n",
              "50%    1.503310e+04  2.288982e+07  \n",
              "75%    3.435336e+06  8.018383e+07  \n",
              "max    7.723295e+08  1.446125e+09  "
            ]
          },
          "execution_count": 30,
          "metadata": {},
          "output_type": "execute_result"
        }
      ],
      "source": [
        "df = pd.read_csv('dataset/BTC-Daily.csv')\n",
        "df.head()\n",
        "\n",
        "df.shape\n",
        "df.describe()"
      ]
    },
    {
      "cell_type": "markdown",
      "metadata": {
        "id": "FHSiqaZp8DC1"
      },
      "source": [
        "### Assessing Data"
      ]
    },
    {
      "cell_type": "code",
      "execution_count": null,
      "metadata": {
        "id": "ax-3tEjc9Cj1",
        "outputId": "7577e5fa-822b-46db-9aaa-b372e5ac2022"
      },
      "outputs": [
        {
          "name": "stdout",
          "output_type": "stream",
          "text": [
            "<class 'pandas.core.frame.DataFrame'>\n",
            "RangeIndex: 2651 entries, 0 to 2650\n",
            "Data columns (total 9 columns):\n",
            " #   Column      Non-Null Count  Dtype  \n",
            "---  ------      --------------  -----  \n",
            " 0   unix        2651 non-null   int64  \n",
            " 1   date        2651 non-null   object \n",
            " 2   symbol      2651 non-null   object \n",
            " 3   open        2651 non-null   float64\n",
            " 4   high        2651 non-null   float64\n",
            " 5   low         2651 non-null   float64\n",
            " 6   close       2651 non-null   float64\n",
            " 7   Volume BTC  2651 non-null   float64\n",
            " 8   Volume USD  2651 non-null   float64\n",
            "dtypes: float64(6), int64(1), object(2)\n",
            "memory usage: 186.5+ KB\n"
          ]
        },
        {
          "data": {
            "text/html": [
              "<div>\n",
              "<style scoped>\n",
              "    .dataframe tbody tr th:only-of-type {\n",
              "        vertical-align: middle;\n",
              "    }\n",
              "\n",
              "    .dataframe tbody tr th {\n",
              "        vertical-align: top;\n",
              "    }\n",
              "\n",
              "    .dataframe thead th {\n",
              "        text-align: right;\n",
              "    }\n",
              "</style>\n",
              "<table border=\"1\" class=\"dataframe\">\n",
              "  <thead>\n",
              "    <tr style=\"text-align: right;\">\n",
              "      <th></th>\n",
              "      <th>unix</th>\n",
              "      <th>date</th>\n",
              "      <th>symbol</th>\n",
              "      <th>open</th>\n",
              "      <th>high</th>\n",
              "      <th>low</th>\n",
              "      <th>close</th>\n",
              "      <th>Volume BTC</th>\n",
              "      <th>Volume USD</th>\n",
              "    </tr>\n",
              "  </thead>\n",
              "  <tbody>\n",
              "    <tr>\n",
              "      <th>0</th>\n",
              "      <td>1646092800</td>\n",
              "      <td>2022-03-01 00:00:00</td>\n",
              "      <td>BTC/USD</td>\n",
              "      <td>43221.71</td>\n",
              "      <td>43626.49</td>\n",
              "      <td>43185.48</td>\n",
              "      <td>43185.48</td>\n",
              "      <td>49.006289</td>\n",
              "      <td>2.116360e+06</td>\n",
              "    </tr>\n",
              "    <tr>\n",
              "      <th>1</th>\n",
              "      <td>1646006400</td>\n",
              "      <td>2022-02-28 00:00:00</td>\n",
              "      <td>BTC/USD</td>\n",
              "      <td>37717.10</td>\n",
              "      <td>44256.08</td>\n",
              "      <td>37468.99</td>\n",
              "      <td>43178.98</td>\n",
              "      <td>3160.618070</td>\n",
              "      <td>1.364723e+08</td>\n",
              "    </tr>\n",
              "    <tr>\n",
              "      <th>2</th>\n",
              "      <td>1645920000</td>\n",
              "      <td>2022-02-27 00:00:00</td>\n",
              "      <td>BTC/USD</td>\n",
              "      <td>39146.66</td>\n",
              "      <td>39886.92</td>\n",
              "      <td>37015.74</td>\n",
              "      <td>37712.68</td>\n",
              "      <td>1701.817043</td>\n",
              "      <td>6.418008e+07</td>\n",
              "    </tr>\n",
              "    <tr>\n",
              "      <th>3</th>\n",
              "      <td>1645833600</td>\n",
              "      <td>2022-02-26 00:00:00</td>\n",
              "      <td>BTC/USD</td>\n",
              "      <td>39242.64</td>\n",
              "      <td>40330.99</td>\n",
              "      <td>38600.00</td>\n",
              "      <td>39146.66</td>\n",
              "      <td>912.724087</td>\n",
              "      <td>3.573010e+07</td>\n",
              "    </tr>\n",
              "    <tr>\n",
              "      <th>4</th>\n",
              "      <td>1645747200</td>\n",
              "      <td>2022-02-25 00:00:00</td>\n",
              "      <td>BTC/USD</td>\n",
              "      <td>38360.93</td>\n",
              "      <td>39727.97</td>\n",
              "      <td>38027.61</td>\n",
              "      <td>39231.64</td>\n",
              "      <td>2202.851827</td>\n",
              "      <td>8.642149e+07</td>\n",
              "    </tr>\n",
              "  </tbody>\n",
              "</table>\n",
              "</div>"
            ],
            "text/plain": [
              "         unix                 date   symbol      open      high       low  \\\n",
              "0  1646092800  2022-03-01 00:00:00  BTC/USD  43221.71  43626.49  43185.48   \n",
              "1  1646006400  2022-02-28 00:00:00  BTC/USD  37717.10  44256.08  37468.99   \n",
              "2  1645920000  2022-02-27 00:00:00  BTC/USD  39146.66  39886.92  37015.74   \n",
              "3  1645833600  2022-02-26 00:00:00  BTC/USD  39242.64  40330.99  38600.00   \n",
              "4  1645747200  2022-02-25 00:00:00  BTC/USD  38360.93  39727.97  38027.61   \n",
              "\n",
              "      close   Volume BTC    Volume USD  \n",
              "0  43185.48    49.006289  2.116360e+06  \n",
              "1  43178.98  3160.618070  1.364723e+08  \n",
              "2  37712.68  1701.817043  6.418008e+07  \n",
              "3  39146.66   912.724087  3.573010e+07  \n",
              "4  39231.64  2202.851827  8.642149e+07  "
            ]
          },
          "execution_count": 31,
          "metadata": {},
          "output_type": "execute_result"
        }
      ],
      "source": [
        "# Setelah memuat data, saya mengevaluasi kualitas dan integritas data untuk memahami apakah ada masalah atau kekurangan yang perlu diatasi. Melihat beberapa baris pertama dari data dan informasi statistik deskriptif adalah langkah awal dalam mengevaluasi data:\n",
        "df.info()\n",
        "df.head()"
      ]
    },
    {
      "cell_type": "markdown",
      "metadata": {
        "id": "EhN5R4hr8DC1"
      },
      "source": [
        "### Cleaning Data"
      ]
    },
    {
      "cell_type": "code",
      "execution_count": null,
      "metadata": {
        "id": "jVnYpprE9Evz"
      },
      "outputs": [],
      "source": [
        "# Setelah mengevaluasi data, saya melakukan pembersihan untuk memastikan keakuratannya. Langkah ini melibatkan penanganan nilai yang hilang, penyesuaian tipe data, dan langkah-langkah lainnya.\n",
        "\n",
        "#### Penanganan Nilai yang Hilang\n",
        "# Jika terdapat nilai yang hilang, kita dapat memutuskan untuk menghapus baris atau mengisi nilai tersebut dengan nilai yang sesuai.\n",
        "\n",
        "# Menangani nilai yang hilang\n",
        "df.dropna(inplace=True)"
      ]
    },
    {
      "cell_type": "markdown",
      "metadata": {
        "id": "gp-Y6wU38DC1"
      },
      "source": [
        "## Exploratory Data Analysis (EDA)"
      ]
    },
    {
      "cell_type": "markdown",
      "metadata": {
        "id": "MW7WF2kr8DC1"
      },
      "source": [
        "### Explore ..."
      ]
    },
    {
      "cell_type": "code",
      "execution_count": null,
      "metadata": {
        "id": "e9CQCZjk8DC2",
        "outputId": "df590002-3a83-4df3-df5c-606bfde62771"
      },
      "outputs": [
        {
          "data": {
            "image/png": "[encoded data removed]",
            "text/plain": [
              "<Figure size 2000x1000 with 4 Axes>"
            ]
          },
          "metadata": {},
          "output_type": "display_data"
        }
      ],
      "source": [
        "features = ['open', 'high', 'low', 'close']\n",
        "\n",
        "fig, axes = plt.subplots(2, 2, figsize=(20, 10))\n",
        "axes = axes.flatten()\n",
        "\n",
        "for i, col in enumerate(features):\n",
        "    sns.histplot(df[col], kde=True, ax=axes[i])\n",
        "\n",
        "# Remove overlapping axes\n",
        "for ax in axes[len(features):]:\n",
        "    ax.remove()\n",
        "\n",
        "plt.show()"
      ]
    },
    {
      "cell_type": "markdown",
      "metadata": {
        "id": "zsyZjqak8DC2"
      },
      "source": [
        "## Visualization & Explanatory Analysis"
      ]
    },
    {
      "cell_type": "markdown",
      "metadata": {
        "id": "HZxOiQ6n8DC2"
      },
      "source": [
        "### Pertanyaan 1:"
      ]
    },
    {
      "cell_type": "markdown",
      "metadata": {
        "id": "1swJUdAD8DC2"
      },
      "source": [
        "- Untuk menjawab pertanyaan ini, saya melakukan analisis visual terhadap fitur-fitur terkait harga Bitcoin, seperti 'open', 'high', 'low', dan 'close'. Visualisasi melibatkan distribusi dan box plot untuk memahami karakteristik dan variabilitas data"
      ]
    },
    {
      "cell_type": "markdown",
      "metadata": {
        "id": "DgHI7CiU8DC2"
      },
      "source": [
        "### Pertanyaan 2:"
      ]
    },
    {
      "cell_type": "markdown",
      "metadata": {
        "id": "Go0lCsvO8DC2"
      },
      "source": [
        "- Pertanyaan ini melibatkan analisis lebih lanjut terkait pertanyaan bisnis, dengan mengeksplorasi hubungan antara fitur-fitur yang telah diproses dan variabel target. Saya juga memeriksa apakah ada pola-pola tertentu yang dapat diamati melalui visualisasi untuk mendukung pengambilan keputusan"
      ]
    },
    {
      "cell_type": "markdown",
      "metadata": {
        "id": "GcWc9uVsd1Qh"
      },
      "source": [
        "## Membuat Model"
      ]
    },
    {
      "cell_type": "code",
      "execution_count": null,
      "metadata": {
        "id": "B5wO5o5Ud1Qh",
        "outputId": "c90daabb-404e-4d96-8cc1-cc16fbebdf68"
      },
      "outputs": [
        {
          "name": "stdout",
          "output_type": "stream",
          "text": [
            "            unix                 date   symbol      open      high       low  \\\n",
            "0     1646092800  2022-03-01 00:00:00  BTC/USD  43221.71  43626.49  43185.48   \n",
            "1     1646006400  2022-02-28 00:00:00  BTC/USD  37717.10  44256.08  37468.99   \n",
            "2     1645920000  2022-02-27 00:00:00  BTC/USD  39146.66  39886.92  37015.74   \n",
            "3     1645833600  2022-02-26 00:00:00  BTC/USD  39242.64  40330.99  38600.00   \n",
            "4     1645747200  2022-02-25 00:00:00  BTC/USD  38360.93  39727.97  38027.61   \n",
            "...          ...                  ...      ...       ...       ...       ...   \n",
            "2646  1417478400  2014-12-02 00:00:00  BTC/USD    378.39    382.86    375.23   \n",
            "2647  1417392000  2014-12-01 00:00:00  BTC/USD    376.40    382.31    373.03   \n",
            "2648  1417305600  2014-11-30 00:00:00  BTC/USD    376.57    381.99    373.32   \n",
            "2649  1417219200  2014-11-29 00:00:00  BTC/USD    376.42    386.60    372.25   \n",
            "2650  1417132800  2014-11-28 00:00:00  BTC/USD    363.59    381.34    360.57   \n",
            "\n",
            "         close    Volume BTC    Volume USD  year  month  day  hour  minute  \\\n",
            "0     43185.48  4.900629e+01  2.116360e+06  2022      3    1     0       0   \n",
            "1     43178.98  3.160618e+03  1.364723e+08  2022      2   28     0       0   \n",
            "2     37712.68  1.701817e+03  6.418008e+07  2022      2   27     0       0   \n",
            "3     39146.66  9.127241e+02  3.573010e+07  2022      2   26     0       0   \n",
            "4     39231.64  2.202852e+03  8.642149e+07  2022      2   25     0       0   \n",
            "...        ...           ...           ...   ...    ...  ...   ...     ...   \n",
            "2646    379.25  2.593576e+06  6.832530e+03  2014     12    2     0       0   \n",
            "2647    378.39  2.520662e+06  6.660560e+03  2014     12    1     0       0   \n",
            "2648    373.34  1.145567e+06  3.046330e+03  2014     11   30     0       0   \n",
            "2649    376.72  2.746157e+06  7.245190e+03  2014     11   29     0       0   \n",
            "2650    376.28  3.220878e+06  8.617150e+03  2014     11   28     0       0   \n",
            "\n",
            "      second  \n",
            "0          0  \n",
            "1          0  \n",
            "2          0  \n",
            "3          0  \n",
            "4          0  \n",
            "...      ...  \n",
            "2646       0  \n",
            "2647       0  \n",
            "2648       0  \n",
            "2649       0  \n",
            "2650       0  \n",
            "\n",
            "[2651 rows x 15 columns]\n",
            "(2385, 3) (266, 3)\n"
          ]
        }
      ],
      "source": [
        "# Split the date and time\n",
        "splitted = df['date'].str.split(' ', expand=True)\n",
        "\n",
        "# Extract date components\n",
        "date_components = splitted[0].str.split('-', expand=True)\n",
        "\n",
        "# Add date components to the DataFrame\n",
        "df['year'] = date_components[0].astype('int')\n",
        "df['month'] = date_components[1].astype('int')\n",
        "df['day'] = date_components[2].astype('int')\n",
        "\n",
        "# Extract time components\n",
        "time_components = splitted[1].str.split(':', expand=True)\n",
        "\n",
        "# Add time components to the DataFrame if needed\n",
        "df['hour'] = time_components[0].astype('int')\n",
        "df['minute'] = time_components[1].astype('int')\n",
        "df['second'] = time_components[2].astype('int')\n",
        "\n",
        "# Display the DataFrame\n",
        "print(df)\n",
        "\n",
        "df.head()\n",
        "df['is_quarter_end'] = np.where(df['month']%3==0,1,0)\n",
        "df.head()\n",
        "df['open-close']  = df['open'] - df['close']\n",
        "df['low-high']  = df['low'] - df['high']\n",
        "df['target'] = np.where(df['close'].shift(-1) > df['close'], 1, 0)\n",
        "features = df[['open-close', 'low-high', 'is_quarter_end']]\n",
        "target = df['target']\n",
        "\n",
        "scaler = StandardScaler()\n",
        "features = scaler.fit_transform(features)\n",
        "\n",
        "X_train, X_valid, Y_train, Y_valid = train_test_split(\n",
        "    features, target, test_size=0.1, random_state=2022)\n",
        "print(X_train.shape, X_valid.shape)\n",
        "models = [LogisticRegression(), SVC(kernel='poly', probability=True), XGBClassifier()]"
      ]
    },
    {
      "cell_type": "markdown",
      "metadata": {
        "id": "dL5QtRP2d1Qj"
      },
      "source": [
        "### Training Model"
      ]
    },
    {
      "cell_type": "code",
      "execution_count": null,
      "metadata": {
        "id": "YYGZsYzqd1Qk",
        "outputId": "b3977acf-73db-4af4-f224-2113e92dc212"
      },
      "outputs": [
        {
          "name": "stdout",
          "output_type": "stream",
          "text": [
            "LogisticRegression() : \n",
            "Training Accuracy :  0.995851899873738\n",
            "Validation Accuracy :  0.993468877782826\n",
            "\n",
            "SVC(kernel='poly', probability=True) : \n",
            "Training Accuracy :  0.9749493253763796\n",
            "Validation Accuracy :  0.9617503407542025\n",
            "\n",
            "XGBClassifier(base_score=None, booster=None, callbacks=None,\n",
            "              colsample_bylevel=None, colsample_bynode=None,\n",
            "              colsample_bytree=None, device=None, early_stopping_rounds=None,\n",
            "              enable_categorical=False, eval_metric=None, feature_types=None,\n",
            "              gamma=None, grow_policy=None, importance_type=None,\n",
            "              interaction_constraints=None, learning_rate=None, max_bin=None,\n",
            "              max_cat_threshold=None, max_cat_to_onehot=None,\n",
            "              max_delta_step=None, max_depth=None, max_leaves=None,\n",
            "              min_child_weight=None, missing=nan, monotone_constraints=None,\n",
            "              multi_strategy=None, n_estimators=None, n_jobs=None,\n",
            "              num_parallel_tree=None, random_state=None, ...) : \n",
            "Training Accuracy :  0.9999582429777427\n",
            "Validation Accuracy :  0.9927589731940027\n",
            "\n"
          ]
        }
      ],
      "source": [
        "for i in range(3):\n",
        "  models[i].fit(X_train, Y_train)\n",
        "\n",
        "  print(f'{models[i]} : ')\n",
        "  print('Training Accuracy : ', metrics.roc_auc_score(Y_train, models[i].predict_proba(X_train)[:,1]))\n",
        "  print('Validation Accuracy : ', metrics.roc_auc_score(Y_valid, models[i].predict_proba(X_valid)[:,1]))\n",
        "  print()"
      ]
    },
    {
      "cell_type": "markdown",
      "metadata": {
        "id": "FoyZElXvd1Ql"
      },
      "source": [
        "### Evaluasi Model"
      ]
    },
    {
      "cell_type": "code",
      "execution_count": null,
      "metadata": {
        "id": "i-Y1B_kTd1Ql",
        "outputId": "f00f14d1-4fc0-4940-d688-c5adc39a7d7a"
      },
      "outputs": [
        {
          "data": {
            "image/png": "[encoded data removed]",
            "text/plain": [
              "<Figure size 640x480 with 1 Axes>"
            ]
          },
          "metadata": {},
          "output_type": "display_data"
        }
      ],
      "source": [
        "y_pred = models[0].predict(X_valid)\n",
        "cm = confusion_matrix(Y_valid, y_pred)\n",
        "\n",
        "# Plotting the confusion matrix as a heatmap\n",
        "sns.heatmap(cm, annot=True, fmt='d', cmap='Blues', cbar=False,\n",
        "            xticklabels=['class_0', 'class_1'],\n",
        "            yticklabels=['class_0', 'class_1'])\n",
        "plt.xlabel('Predicted Label')\n",
        "plt.ylabel('Actual Label')\n",
        "plt.title('Confusion Matrix')\n",
        "plt.show()"
      ]
    },
    {
      "cell_type": "markdown",
      "metadata": {
        "id": "A5gf-PG2d1Ql"
      },
      "source": [
        "### Menyimpan Model"
      ]
    },
    {
      "cell_type": "code",
      "execution_count": null,
      "metadata": {
        "id": "1kPJSdEvd1Qm",
        "outputId": "10df4664-72c7-4ce2-846e-198f28a2fd16"
      },
      "outputs": [
        {
          "data": {
            "text/plain": [
              "['bitcoin_prediction.pkl']"
            ]
          },
          "execution_count": 40,
          "metadata": {},
          "output_type": "execute_result"
        }
      ],
      "source": [
        "model = models[0]\n",
        "joblib.dump(model, 'bitcoin_prediction.pkl')"
      ]
    },
    {
      "cell_type": "markdown",
      "metadata": {
        "id": "_WeHlCeX8DC2"
      },
      "source": [
        "## Conclusion"
      ]
    },
    {
      "cell_type": "markdown",
      "metadata": {
        "id": "ZTcyR48Y8DC2"
      },
      "source": [
        "- Berdasarkan hasil analisis model prediksi harga Bitcoin, terlihat bahwa model dapat memberikan informasi yang berharga kepada para investor untuk mendukung pengambilan keputusan investasi. Namun, perlu diingat bahwa prediksi pasar keuangan selalu melibatkan risiko, dan keputusan investasi sebaiknya didasarkan pada analisis menyeluruh yang melibatkan lebih dari sekadar model prediksi.\n",
        "- Model prediksi harga Bitcoin memberikan kontribusi yang positif dalam merancang strategi manajemen risiko. Tingkat keakuratan model dalam memprediksi perubahan harga dapat membantu para pelaku pasar untuk mengidentifikasi potensi risiko dan mengambil tindakan yang sesuai untuk melindungi portofolio investasi mereka. Namun, penting untuk diingat bahwa tidak ada model yang sempurna, dan faktor-faktor eksternal yang tidak dapat diprediksi juga dapat mempengaruhi pasar."
      ]
    }
  ],
  "metadata": {
    "colab": {
      "provenance": []
    },
    "kernelspec": {
      "display_name": "Python 3 (ipykernel)",
      "language": "python",
      "name": "python3"
    },
    "language_info": {
      "codemirror_mode": {
        "name": "ipython",
        "version": 3
      },
      "file_extension": ".py",
      "mimetype": "text/x-python",
      "name": "python",
      "nbconvert_exporter": "python",
      "pygments_lexer": "ipython3",
      "version": "3.8.10"
    },
    "vscode": {
      "interpreter": {
        "hash": "972b3bf27e332e87b5379f2791f6ef9dfc79c71018c370b0d7423235e20fe4d7"
      }
    }
  },
  "nbformat": 4,
  "nbformat_minor": 0
}